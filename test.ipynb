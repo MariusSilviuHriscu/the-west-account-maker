{
 "cells": [
  {
   "cell_type": "code",
   "execution_count": 3,
   "metadata": {},
   "outputs": [],
   "source": [
    "import secmail\n",
    "from account_maker import WestRegistration,Account\n",
    "from requests_handler import RequestsHandler,create_requests_handler"
   ]
  },
  {
   "cell_type": "code",
   "execution_count": 4,
   "metadata": {},
   "outputs": [
    {
     "name": "stdout",
     "output_type": "stream",
     "text": [
      "We have changes tor ip adress to 2a0b:f4c2:1::1\n",
      "Successfully registered the account CARNIVORGRASPROST with password kQfcQb9lFt status : None\n"
     ]
    }
   ],
   "source": [
    "def main():\n",
    "    handler = create_requests_handler()\n",
    "    account  = Account(name=f'CARNIVORGRASPROST')\n",
    "    client = secmail.Client()\n",
    "\n",
    "    registrator = WestRegistration(client=client,\n",
    "                                handler=handler)\n",
    "    try :\n",
    "        registrator.register_account(account=account)\n",
    "    except Exception as e :\n",
    "        handler.renew_tor_connection()\n",
    "        \n",
    "        raise e\n",
    "    \n",
    "main()"
   ]
  }
 ],
 "metadata": {
  "kernelspec": {
   "display_name": ".venv",
   "language": "python",
   "name": "python3"
  },
  "language_info": {
   "codemirror_mode": {
    "name": "ipython",
    "version": 3
   },
   "file_extension": ".py",
   "mimetype": "text/x-python",
   "name": "python",
   "nbconvert_exporter": "python",
   "pygments_lexer": "ipython3",
   "version": "3.11.4"
  }
 },
 "nbformat": 4,
 "nbformat_minor": 2
}
